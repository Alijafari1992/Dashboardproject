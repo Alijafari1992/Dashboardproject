{
  "nbformat": 4,
  "nbformat_minor": 0,
  "metadata": {
    "colab": {
      "provenance": []
    },
    "kernelspec": {
      "name": "python3",
      "display_name": "Python 3"
    },
    "language_info": {
      "name": "python"
    }
  },
  "cells": [
    {
      "cell_type": "code",
      "source": [
        "import pandas as pd\n",
        "import numpy as np\n",
        "import matplotlib.pyplot as plt\n",
        "import plotly.express as px\n",
        "import plotly.graph_objects as go\n",
        "import seaborn as sns\n",
        "!pip install folium\n",
        "!pip install pandas dash\n",
        "!pip3 install httpx==0.20 dash plotly\n",
        "import dash\n",
        "import dash_html_components as html\n",
        "import dash_core_components as dcc\n",
        "from dash.dependencies import Input, Output\n",
        "#import folium this is also working good"
      ],
      "metadata": {
        "id": "AJO52XdzOtHB"
      },
      "execution_count": null,
      "outputs": []
    },
    {
      "cell_type": "code",
      "source": [
        "data = pd.read_csv('https://cf-courses-data.s3.us.cloud-object-storage.appdomain.cloud/IBMDeveloperSkillsNetwork-DV0101EN-SkillsNetwork/Data%20Files/historical_automobile_sales.csv')\n",
        "\n",
        "# Initialize the Dash app\n",
        "app = dash.Dash(__name__)\n",
        "data"
      ],
      "metadata": {
        "id": "62ia8R1hQlNV"
      },
      "execution_count": null,
      "outputs": []
    },
    {
      "cell_type": "markdown",
      "source": [
        "**TASK 2.1:** Create a Dash application and give it a meaningful title"
      ],
      "metadata": {
        "id": "Cnb4LHutPzdt"
      }
    },
    {
      "cell_type": "markdown",
      "source": [
        "Provide title of the dash application title as\n",
        "\n",
        "Automobile Sales Statistics Dashboard\n",
        "\n",
        "Make the heading center aligned\n",
        "set color as #503D36\n",
        "font size as 24\n",
        "Sample: style={‘textAlign’: ‘left’, ‘color’: ‘#000000’, ‘font-size’: 0}"
      ],
      "metadata": {
        "id": "-rmqgYRAQHGr"
      }
    },
    {
      "cell_type": "code",
      "source": [
        "dropdown_options = [\n",
        "    {'label': 'Yearly Statistics', 'value': 'Yearly Statistics'},\n",
        "    {'label': 'Recession Period Statistics', 'value': 'Recession Period Statistics'}\n",
        "]\n",
        "# List of years\n",
        "year_list = [i for i in range(1980, 2024)]\n",
        "#TASK 2.1 Add title to the dashboard\n",
        "app.layout = html.Div([html.H1(\"Automobile Sales Statistics Dashboard.\")], style={'textAlign':'left', 'color':'#503D36', 'font-size':'24px'})\n"
      ],
      "metadata": {
        "id": "pho6DEIYP3Bv"
      },
      "execution_count": 38,
      "outputs": []
    },
    {
      "cell_type": "markdown",
      "source": [
        "**TASK 2.2:** Add two dropdown menus"
      ],
      "metadata": {
        "id": "dTu_8VfjudRW"
      }
    },
    {
      "cell_type": "code",
      "source": [
        "html.Div([\n",
        "        html.Label(\"Select Statistics:\"),\n",
        "        dcc.Dropdown(\n",
        "            id='dropdown-statistics',\n",
        "            options= dropdown_options,\n",
        "            value= 'Select Statistics',\n",
        "            placeholder= 'Select a report type',\n",
        "        )\n",
        "    ]),\n",
        "html.Div(dcc.Dropdown(\n",
        "            id='select-year',\n",
        "            options=[{'label': i, 'value': i} for i in year_list],\n",
        "            value='Select Year'\n",
        "        )),"
      ],
      "metadata": {
        "id": "dnaMv7rKP2-U"
      },
      "execution_count": null,
      "outputs": []
    },
    {
      "cell_type": "markdown",
      "source": [
        "**TASK 2.3:** Add a division for output display"
      ],
      "metadata": {
        "id": "KCXtXuH-vdSK"
      }
    },
    {
      "cell_type": "code",
      "source": [
        "html.Div([\n",
        "    html.Div(id='output-container', className='chart-grid', style={'display':'flex'}),])\n"
      ],
      "metadata": {
        "id": "VGi_l8aEvg_C"
      },
      "execution_count": null,
      "outputs": []
    },
    {
      "cell_type": "markdown",
      "source": [
        "**TASK 2.4:** Creating Callbacks"
      ],
      "metadata": {
        "id": "wQGjO7eBv-Je"
      }
    },
    {
      "cell_type": "code",
      "source": [
        "# Define the callback function to update the input container based on the selected statistics\n",
        "@app.callback(\n",
        "    Output(component_id='select-year', component_property='disabled'),\n",
        "    Input(component_id='dropdown-statistics',component_property='value'))\n",
        "\n",
        "def update_input_container(selected_statistic):\n",
        "    if selected_statistic =='Yearly Statistics':\n",
        "        return False\n",
        "    else:\n",
        "        return True\n",
        "#Callback for plotting\n",
        "# Define the callback function to update the input container based on the selected statistics\n",
        "@app.callback(\n",
        "    Output(component_id='output-container', component_property='children'),\n",
        "    Input(component_id='select-year', component_property='value'), Input(component_id='dropdown-statistics', component_property='value'))\n",
        "\n",
        "def update_output_container(selected_year, selected_statistic):\n",
        "    if selected_statistic == 'Recession Period Statistics':\n",
        "        # Filter the data for recession periods\n",
        "        recession_data = data[data['Recession'] == 1]\n",
        "\n",
        "##TASK 2.5: Create and display graphs for Recession Report Statistics\n",
        "\n",
        "#Plot 1 Automobile sales fluctuate over Recession Period (year wise)\n",
        "        # use groupby to create relevant data for plotting\n",
        "        yearly_rec=recession_data.groupby('Year')['Automobile_Sales'].mean().reset_index()\n",
        "        R_chart1 = dcc.Graph(\n",
        "            figure=px.line(yearly_rec,  x='Year', y='Automobile_Sales', title=\"Average Automobile Sales fluctuation over Recession Period\"))\n",
        "\n",
        " #Plot 2 Calculate the average number of vehicles sold by vehicle type\n",
        "        # use groupby to create relevant data for plotting\n",
        "        average_sales = recession_data.groupby('Vehicle_Type')['Automobile_Sales'].mean().reset_index()\n",
        "        R_chart2  = dcc.Graph(figure=px.bar(average_sales, x='Vehicle_Type', y='Automobile_Sales', title=\"Average Number of Vehicles Sold by Vehicle Type\"))\n",
        "\n",
        " # Plot 3 Pie chart for total expenditure share by vehicle type during recessions\n",
        "        # use groupby to create relevant data for plotting\n",
        "        # Create 'exp_rec' DataFrame with total expenditure share by vehicle type during recessions\n",
        "        exp_rec = recession_data.groupby('Vehicle_Type')['Advertising_Expenditure'].sum().reset_index()\n",
        "        R_chart3 = dcc.Graph(figure=px.pie(exp_rec, names='Vehicle_Type', values='Advertising_Expenditure', title='Total Expenditure Share by Vehicle Type during Recessions'))\n",
        "  # Plot 4 bar chart for the effect of unemployment rate on vehicle type and sales\n",
        "        unemployment_rate = recession_data.groupby('Vehicle_Type')['unemployment_rate'].mean().reset_index()\n",
        "        R_chart4 = dcc.Graph(figure=px.bar(unemployment_rate, x='Vehicle_Type', y='unemployment_rate', title='Unemployment Rate on Vehicle Type'))\n",
        "\n",
        "\n",
        "        return [\n",
        "            html.Div(className='chart-item', children=[html.Div(children=R_chart1),html.Div(children=R_chart2)], style={'display':'flex'}),\n",
        "            html.Div(className='chart-item', children=[html.Div(children=R_chart3),html.Div(R_chart4)], style={'display':'flex'})\n",
        "            ]\n",
        " #TASK 2.6: Create and display graphs for Yearly Report Statistics\n",
        " # Yearly Statistic Report Plots\n",
        "    elif (selected_year and selected_statistic=='Yearly Statistics') :\n",
        "        yearly_data = data[data['Year'] == selected_year]\n",
        "#TASK 2.5: Creating Graphs Yearly data\n",
        "#plot 1 Yearly Automobile sales using line chart for the whole period.\n",
        "        yas= yearly_data.groupby('Year')['Automobile_Sales'].mean().reset_index()\n",
        "        Y_chart1 = dcc.Graph(figure=px.line(yas, x='Year', y='Automobile_Sales', title='Yearly Automobile Sales'))\n",
        "# Plot 2 Total Monthly Automobile sales using line chart.\n",
        "        month = yearly_data.groupby('Month')['Automobile_Sales'].mean().reset_index()\n",
        "        Y_chart2 = dcc.Graph(figure=px.line(month, x='Month', y='Automobile_Sales', title='Monthly Automobile Sales'))\n",
        "            # Plot bar chart for average number of vehicles sold during the given year\n",
        "        avr_vdata=yearly_data.groupby('Year')['Automobile_Sales'].mean().reset_index()\n",
        "        Y_chart3 = dcc.Graph( figure=px.bar(avr_vdata, x='Year',y='Automobile_Sales', title='Average Vehicles Sold by Vehicle Type in the year {}'.format(selected_year)))\n",
        "\n",
        "            # Total Advertisement Expenditure for each vehicle using pie chart\n",
        "        exp_data=yearly_data.groupby('Vehicle_Type')['Advertising_Expenditure'].mean().reset_index()\n",
        "        Y_chart4 = dcc.Graph(figure=px.pie(exp_data, names='Vehicle_Type', values='Advertising_Expenditure', title='Total Advertisement Expenditure'))\n",
        "#TASK 2.6: Returning the graphs for displaying Yearly data\n",
        "        return [\n",
        "                html.Div(className='chart-item', children=[html.Div(Y_chart1),html.Div(Y_chart2)], style={'display':'flex'}),\n",
        "                html.Div(className='chart-item', children=[html.Div(Y_chart3),html.Div(Y_chart4)], style={'display':'flex'})\n",
        "                ]\n",
        "\n",
        "    else:\n",
        "        return None\n",
        "\n",
        "# Run the Dash app\n",
        "if __name__ == '__main__':\n",
        "    app.run_server(debug=True)"
      ],
      "metadata": {
        "colab": {
          "base_uri": "https://localhost:8080/",
          "height": 672
        },
        "id": "o9M0d8W_vg8r",
        "outputId": "be942230-1d5f-4fab-dca3-8d90b3fecd87"
      },
      "execution_count": 41,
      "outputs": [
        {
          "output_type": "display_data",
          "data": {
            "text/plain": [
              "<IPython.core.display.Javascript object>"
            ],
            "application/javascript": [
              "(async (port, path, width, height, cache, element) => {\n",
              "    if (!google.colab.kernel.accessAllowed && !cache) {\n",
              "      return;\n",
              "    }\n",
              "    element.appendChild(document.createTextNode(''));\n",
              "    const url = await google.colab.kernel.proxyPort(port, {cache});\n",
              "    const iframe = document.createElement('iframe');\n",
              "    iframe.src = new URL(path, url).toString();\n",
              "    iframe.height = height;\n",
              "    iframe.width = width;\n",
              "    iframe.style.border = 0;\n",
              "    iframe.allow = [\n",
              "        'accelerometer',\n",
              "        'autoplay',\n",
              "        'camera',\n",
              "        'clipboard-read',\n",
              "        'clipboard-write',\n",
              "        'gyroscope',\n",
              "        'magnetometer',\n",
              "        'microphone',\n",
              "        'serial',\n",
              "        'usb',\n",
              "        'xr-spatial-tracking',\n",
              "    ].join('; ');\n",
              "    element.appendChild(iframe);\n",
              "  })(8050, \"/\", \"100%\", 650, false, window.element)"
            ]
          },
          "metadata": {}
        }
      ]
    }
  ]
}