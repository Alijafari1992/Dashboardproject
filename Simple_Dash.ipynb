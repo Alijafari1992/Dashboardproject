{
  "nbformat": 4,
  "nbformat_minor": 0,
  "metadata": {
    "colab": {
      "provenance": [],
      "authorship_tag": "ABX9TyMsFRXafAK5Z08STnGKLQZe",
      "include_colab_link": true
    },
    "kernelspec": {
      "name": "python3",
      "display_name": "Python 3"
    },
    "language_info": {
      "name": "python"
    }
  },
  "cells": [
    {
      "cell_type": "markdown",
      "metadata": {
        "id": "view-in-github",
        "colab_type": "text"
      },
      "source": [
        "<a href=\"https://colab.research.google.com/github/Alijafari1992/Dashboardproject/blob/main/Simple_Dash.ipynb\" target=\"_parent\"><img src=\"https://colab.research.google.com/assets/colab-badge.svg\" alt=\"Open In Colab\"/></a>"
      ]
    },
    {
      "cell_type": "code",
      "execution_count": null,
      "metadata": {
        "id": "XkYXPf3SXfEJ"
      },
      "outputs": [],
      "source": [
        "import pandas as pd\n",
        "import numpy as np\n",
        "import matplotlib.pyplot as plt\n",
        "import plotly.express as px\n",
        "import plotly.graph_objects as go\n",
        "!pip install pandas dash\n",
        "!pip3 install httpx==0.20 dash plotly\n",
        "import dash\n",
        "import dash_html_components as html\n",
        "import dash_core_components as dcc\n",
        "from dash.dependencies import Input, Output"
      ]
    },
    {
      "cell_type": "code",
      "source": [
        "airline_data =  pd.read_csv('https://cf-courses-data.s3.us.cloud-object-storage.appdomain.cloud/IBMDeveloperSkillsNetwork-DV0101EN-SkillsNetwork/Data%20Files/airline_data.csv',\n",
        "                            encoding = \"ISO-8859-1\",\n",
        "                            dtype={'Div1Airport': str, 'Div1TailNum': str,\n",
        "                                   'Div2Airport': str, 'Div2TailNum': str})"
      ],
      "metadata": {
        "id": "Y8xyNNt0cWnY"
      },
      "execution_count": 2,
      "outputs": []
    },
    {
      "cell_type": "code",
      "source": [
        "# Read the airline data into the pandas dataframe\n",
        "airline_data =  pd.read_csv('https://cf-courses-data.s3.us.cloud-object-storage.appdomain.cloud/IBMDeveloperSkillsNetwork-DV0101EN-SkillsNetwork/Data%20Files/airline_data.csv',\n",
        "                            encoding = \"ISO-8859-1\",\n",
        "                            dtype={'Div1Airport': str, 'Div1TailNum': str,\n",
        "                                   'Div2Airport': str, 'Div2TailNum': str})"
      ],
      "metadata": {
        "id": "7_kYB6mic_yt"
      },
      "execution_count": 3,
      "outputs": []
    },
    {
      "cell_type": "code",
      "source": [
        "# !python3 dash_interactivity.py"
      ],
      "metadata": {
        "id": "S1Pp2Bs3dRwa"
      },
      "execution_count": 5,
      "outputs": []
    },
    {
      "cell_type": "code",
      "source": [
        "# Create a dash application layout\n",
        "app = dash.Dash(__name__)\n",
        "\n",
        "# Get the layout of the application and adjust it.\n",
        "# Create an outer division using html.Div and add title to the dashboard using html.H1 component\n",
        "# Add a html.Div and core input text component\n",
        "# Finally, add graph component.\n",
        "app.layout = html.Div(children=[html.H1(),\n",
        "                                html.Div([\"Input Year\", dcc.Input(),],\n",
        "                                style={}),\n",
        "                                html.Br(),\n",
        "                                html.Br(),\n",
        "                                html.Div(),\n",
        "                                ])"
      ],
      "metadata": {
        "id": "3kvNNr8mdxNp"
      },
      "execution_count": null,
      "outputs": []
    },
    {
      "cell_type": "markdown",
      "source": [
        "## Create dash application and get the layout"
      ],
      "metadata": {
        "id": "8WD1vypDd7j8"
      }
    },
    {
      "cell_type": "code",
      "source": [
        "# # Import required libraries\n",
        "# import pandas as pd\n",
        "# import plotly.graph_objects as go\n",
        "# import dash\n",
        "# from dash import dcc\n",
        "# from dash import html\n",
        "from dash.dependencies import Input, Output\n",
        "# #Read the airline data into pandas dataframe\n",
        "airline_data =  pd.read_csv('https://cf-courses-data.s3.us.cloud-object-storage.appdomain.cloud/IBMDeveloperSkillsNetwork-DV0101EN-SkillsNetwork/Data%20Files/airline_data.csv',\n",
        "                            encoding = \"ISO-8859-1\",\n",
        "                            dtype={'Div1Airport': str, 'Div1TailNum': str,\n",
        "                                   'Div2Airport': str, 'Div2TailNum': str})\n",
        "\n",
        "# Create a dash application\n",
        "app = dash.Dash(__name__)\n",
        "\n",
        "app.layout = html.Div(children=[html.H1('Airline Performance Dashboard',style={'textAlign': 'center', 'color': '#503D36', 'font-size': 40}),\n",
        "                                html.Div([\"Input Year\", dcc.Input(),],\n",
        "                                style={}),\n",
        "                                html.Br(),\n",
        "                                html.Br(),\n",
        "                                html.Div(),\n",
        "                                ])\n",
        "\n",
        "# Run the app\n",
        "if __name__ == '__main__':\n",
        "    app.run_server()"
      ],
      "metadata": {
        "id": "irwRdAkceCg-"
      },
      "execution_count": null,
      "outputs": []
    },
    {
      "cell_type": "markdown",
      "source": [
        "**Input and Output components of layout**"
      ],
      "metadata": {
        "id": "QD27_DNEf4LF"
      }
    },
    {
      "cell_type": "code",
      "source": [
        "# # Import required libraries\n",
        "# import pandas as pd\n",
        "# import plotly.graph_objects as go\n",
        "# import dash\n",
        "# from dash import dcc\n",
        "# from dash import html\n",
        "# from dash.dependencies import Input, Output\n",
        "# # Read the airline data into pandas dataframe\n",
        "airline_data =  pd.read_csv('https://cf-courses-data.s3.us.cloud-object-storage.appdomain.cloud/IBMDeveloperSkillsNetwork-DV0101EN-SkillsNetwork/Data%20Files/airline_data.csv',\n",
        "                            encoding = \"ISO-8859-1\",\n",
        "                            dtype={'Div1Airport': str, 'Div1TailNum': str,\n",
        "                                   'Div2Airport': str, 'Div2TailNum': str})\n",
        "# Create a dash application\n",
        "app = dash.Dash(__name__)\n",
        "\n",
        "app.layout = html.Div(children=[ html.H1('Airline Performance Dashboard',style={'textAlign': 'center', 'color': '#503D36', 'font-size': 40}),\n",
        "                                html.Div([\"Input Year: \", dcc.Input(id='input-year', value='2010',\n",
        "                                type='number', style={'height':'50px', 'font-size': 35}),],\n",
        "                                style={'font-size': 40}),\n",
        "                                html.Br(),\n",
        "                                html.Br(),\n",
        "                                html.Div(dcc.Graph(id='line-plot')),\n",
        "                                ])\n",
        "\n",
        "# Run the app\n",
        "if __name__ == '__main__':\n",
        "    app.run_server()"
      ],
      "metadata": {
        "id": "Tcofv3zeej-3"
      },
      "execution_count": null,
      "outputs": []
    },
    {
      "cell_type": "markdown",
      "source": [
        "##Application Callback()"
      ],
      "metadata": {
        "id": "45P2VhYsejqb"
      }
    },
    {
      "cell_type": "markdown",
      "source": [
        "**Step1**"
      ],
      "metadata": {
        "id": "Xeg0PUgqiC9z"
      }
    },
    {
      "cell_type": "code",
      "source": [
        "# add callback decorator\n",
        "# @app.callback(Output(),\n",
        "#                Input())\n",
        "@app.callback(\n",
        "    Output('output', 'children'),\n",
        "    [Input('input', 'value')]\n",
        ")\n",
        "\n",
        "# Add computation to callback function and return graph\n",
        "def get_graph(entered_year):\n",
        "    # Select data based on the entered year\n",
        "    df =  airline_data[airline_data['Year']==int(entered_year)]\n",
        "\n",
        "    # Group the data by Month and compute the average over arrival delay time.\n",
        "    line_data = df.groupby('Month')['ArrDelay'].mean().reset_index()\n",
        "\n",
        "    fig = go.Figure(data=df)\n",
        "    fig.update_layout()\n",
        "    return fig\n",
        "\n",
        "# Run the app\n",
        "if __name__ == '__main__':\n",
        "    app.run_server()"
      ],
      "metadata": {
        "id": "37t4XndIfBgx"
      },
      "execution_count": null,
      "outputs": []
    },
    {
      "cell_type": "markdown",
      "source": [
        "**Step1**"
      ],
      "metadata": {
        "id": "y12M8jMpiJbx"
      }
    },
    {
      "cell_type": "code",
      "source": [
        "import dash\n",
        "import dash_core_components as dcc\n",
        "import dash_html_components as html\n",
        "from dash.dependencies import Input, Output\n",
        "\n",
        "app = dash.Dash(__name__)\n",
        "\n",
        "app.layout = html.Div([\n",
        "    dcc.Input(id='input', value='Enter text here', type='text'),\n",
        "    html.Div(id='output')\n",
        "])\n",
        "\n",
        "@app.callback(\n",
        "    Output('output', 'children'),\n",
        "    [Input('input', 'value')]\n",
        ")\n",
        "def update_output(value):\n",
        "    return f'You entered: {value}'\n",
        "\n",
        "if __name__ == '__main__':\n",
        "    app.run_server(debug=True)"
      ],
      "metadata": {
        "colab": {
          "base_uri": "https://localhost:8080/",
          "height": 672
        },
        "id": "vy5xurAZhAdJ",
        "outputId": "9284b5c0-0a8c-499c-ce0e-4d52ba1db2ac"
      },
      "execution_count": null,
      "outputs": [
        {
          "output_type": "display_data",
          "data": {
            "text/plain": [
              "<IPython.core.display.Javascript object>"
            ],
            "application/javascript": [
              "(async (port, path, width, height, cache, element) => {\n",
              "    if (!google.colab.kernel.accessAllowed && !cache) {\n",
              "      return;\n",
              "    }\n",
              "    element.appendChild(document.createTextNode(''));\n",
              "    const url = await google.colab.kernel.proxyPort(port, {cache});\n",
              "    const iframe = document.createElement('iframe');\n",
              "    iframe.src = new URL(path, url).toString();\n",
              "    iframe.height = height;\n",
              "    iframe.width = width;\n",
              "    iframe.style.border = 0;\n",
              "    iframe.allow = [\n",
              "        'accelerometer',\n",
              "        'autoplay',\n",
              "        'camera',\n",
              "        'clipboard-read',\n",
              "        'clipboard-write',\n",
              "        'gyroscope',\n",
              "        'magnetometer',\n",
              "        'microphone',\n",
              "        'serial',\n",
              "        'usb',\n",
              "        'xr-spatial-tracking',\n",
              "    ].join('; ');\n",
              "    element.appendChild(iframe);\n",
              "  })(8050, \"/\", \"100%\", 650, false, window.element)"
            ]
          },
          "metadata": {}
        }
      ]
    }
  ]
}